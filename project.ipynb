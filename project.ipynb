{
 "cells": [
  {
   "cell_type": "code",
   "execution_count": null,
   "metadata": {},
   "outputs": [],
   "source": [
    "class Car:\n",
    "    def __init__(self,pos,vel,accel,size):\n",
    "        self.pos = pos\n",
    "        self.vel = vel\n",
    "        self.accel = accel\n",
    "        self.size = size\n",
    "\n",
    "class Road:\n",
    "    def __init__(self,length,width,ways,speedlimit,entries,exits):\n",
    "        self.length = length\n",
    "        self.width = width\n",
    "        self.ways = ways\n",
    "        self.entries = entries\n",
    "        self.exits = exits\n",
    "        self.speedlimit = speedlimit\n",
    "\n",
    "class Conection(Road):\n",
    "    def __init__(self,length,width,ways,speedlimit,entries,exits):\n",
    "        super().__init__(length,width,ways,speedlimit,entries,exits)\n",
    "\n",
    "class Entry(Road):\n",
    "    def __init__(self,length,width,ways,speedlimit,entries,exits):\n",
    "        super().__init__(length,width,ways,speedlimit,entries,exits)\n",
    "\n",
    "class Exit(Road):\n",
    "    def __init__(self,length,width,ways,speedlimit,entries,exits):\n",
    "        super().__init__(length,width,ways,speedlimit,entries,exits)\n",
    "\n",
    "class Environment:\n",
    "    def __init__(self,cars,obstacles,conections,entries,exits):\n",
    "        self.cars = cars\n",
    "        self.obstacles = obstacles\n",
    "        self.conections = conections\n",
    "\n"
   ]
  }
 ],
 "metadata": {
  "language_info": {
   "name": "python"
  },
  "orig_nbformat": 4
 },
 "nbformat": 4,
 "nbformat_minor": 2
}
